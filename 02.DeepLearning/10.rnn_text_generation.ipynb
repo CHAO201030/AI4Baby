{
 "cells": [
  {
   "cell_type": "code",
   "execution_count": 1,
   "metadata": {},
   "outputs": [
    {
     "name": "stdout",
     "output_type": "stream",
     "text": [
      "matplotlib 3.10.0\n",
      "numpy 2.0.2\n",
      "pandas 2.2.3\n",
      "sklearn 1.5.2\n",
      "torch 2.6.0+cu126\n",
      "keras._tf_keras.keras 3.8.0\n",
      "cuda:0\n"
     ]
    }
   ],
   "source": [
    "import matplotlib as mpl\n",
    "import matplotlib.pyplot as plt\n",
    "import numpy as np\n",
    "import sklearn\n",
    "import pandas as pd\n",
    "import os\n",
    "import sys\n",
    "import time\n",
    "from tqdm.auto import tqdm\n",
    "import torch\n",
    "import torch.nn as nn\n",
    "import torch.nn.functional as F\n",
    "from torch.utils.data import Dataset, DataLoader\n",
    "from tensorflow import keras\n",
    "from sklearn.metrics import accuracy_score\n",
    "\n",
    "for module in mpl, np, pd, sklearn, torch, keras:\n",
    "    print(module.__name__, module.__version__)\n",
    "\n",
    "device = torch.device(\"cuda:0\") if torch.cuda.is_available() else torch.device(\"cpu\")\n",
    "print(device)\n",
    "\n",
    "seed = 42\n",
    "torch.manual_seed(seed)\n",
    "torch.cuda.manual_seed_all(seed)"
   ]
  },
  {
   "cell_type": "code",
   "execution_count": 3,
   "metadata": {},
   "outputs": [
    {
     "name": "stdout",
     "output_type": "stream",
     "text": [
      "1115394\n",
      "<class 'str'>\n"
     ]
    }
   ],
   "source": [
    "with open(\"./data/shakespeare.txt\", \"r\", encoding=\"utf8\") as file:\n",
    "    text = file.read()\n",
    "\n",
    "print(len(text))\n",
    "print(type(text))"
   ]
  },
  {
   "cell_type": "code",
   "execution_count": 45,
   "metadata": {},
   "outputs": [],
   "source": [
    "vocab = sorted(set(text))\n",
    "vocab_size = len(vocab)\n",
    "\n",
    "char2index = {char : index for index, char in enumerate(vocab)}\n",
    "\n",
    "index2char = {index : char for char, index in char2index.items()}\n",
    "\n",
    "text2int = np.array([char2index[char] for char in text])"
   ]
  },
  {
   "cell_type": "code",
   "execution_count": 33,
   "metadata": {},
   "outputs": [],
   "source": [
    "class CharDataset(Dataset):\n",
    "    def __init__(self, text2int, seq_len):\n",
    "        self.per_sample_len = seq_len + 1\n",
    "        self.text2int = text2int\n",
    "        self.sample_num = len(text2int) // self.per_sample_len\n",
    "    \n",
    "    def __getitem__(self, index):\n",
    "        return self.text2int[index * self.per_sample_len:(index + 1) * self.per_sample_len]\n",
    "    \n",
    "    def __len__(self):\n",
    "        return self.sample_num\n",
    "    \n",
    "train_dataset = CharDataset(text2int, 100)"
   ]
  },
  {
   "cell_type": "code",
   "execution_count": null,
   "metadata": {},
   "outputs": [],
   "source": [
    "def collate_fn(batch):\n",
    "    input_list  = []\n",
    "    output_list = []\n",
    "    for seq in batch:\n",
    "        # A B C D\n",
    "        input_list.append(seq[:-1]) # A B C\n",
    "        output_list.append(seq[1:]) # B C D\n",
    "\n",
    "    # list<ndarray> -> 2 dim ndarray\n",
    "    input_list = np.array(input_list)\n",
    "    output_list = np.array(output_list)\n",
    "    \n",
    "    return torch.Tensor(input_list).to(dtype=torch.int64), torch.Tensor(output_list).to(dtype=torch.int64)\n",
    "\n",
    "train_dataloader = DataLoader(train_dataset, batch_size=64, shuffle=True, collate_fn=collate_fn)"
   ]
  },
  {
   "cell_type": "code",
   "execution_count": 38,
   "metadata": {},
   "outputs": [],
   "source": [
    "class CharRNN(nn.Module):\n",
    "    def __init__(self, vocab_size, embedding_dim=256, hidden_dim=1024):\n",
    "        super().__init__()\n",
    "        self.embedding = nn.Embedding(vocab_size, embedding_dim)\n",
    "        self.rnn = nn.RNN(embedding_dim, hidden_dim, batch_first=True)\n",
    "        self.fc = nn.Linear(hidden_dim, vocab_size)\n",
    "\n",
    "    def forward(self, x, hidden=None):\n",
    "        x = self.embedding(x)   # batch_size, seq_len, embedding_dim\n",
    "        x, hidden = self.rnn(x, hidden) # batch_size, seq_len, hidden_dim\n",
    "        x = self.fc(x)  # batch_size, seq_len, vocab_size\n",
    "\n",
    "        return x, hidden"
   ]
  },
  {
   "cell_type": "code",
   "execution_count": 46,
   "metadata": {},
   "outputs": [],
   "source": [
    "class EarlyStopCallBack:\n",
    "    def __init__(self, patience = 5, min_delta = 0.01):\n",
    "        self.patience = patience\n",
    "        self.min_delta = min_delta\n",
    "        self.counter = 0\n",
    "        self.best_metric = -1\n",
    "    \n",
    "    def __call__(self, metric):\n",
    "        if metric > self.best_metric + self.min_delta:\n",
    "            self.best_metric = metric\n",
    "            self.counter = 0\n",
    "        else:\n",
    "            self.counter += 1\n",
    "    \n",
    "    @property\n",
    "    def early_stop(self):\n",
    "        return self.counter >= self.patience"
   ]
  },
  {
   "cell_type": "code",
   "execution_count": 56,
   "metadata": {},
   "outputs": [],
   "source": [
    "def training(\n",
    "        model,\n",
    "        train_dataloader,\n",
    "        epoch,\n",
    "        loss_function,\n",
    "        optimizer,\n",
    "        early_stop_cb = None,\n",
    "        eval_step=500\n",
    "):\n",
    "    record_list = []\n",
    "    global_step = 0\n",
    "    model.train()\n",
    "\n",
    "    with tqdm(total=len(train_dataloader) * epoch) as pbar:\n",
    "        for epoch_id in range(epoch):\n",
    "            for data, label in train_dataloader:\n",
    "                data = data.to(device)\n",
    "                label = label.to(device)\n",
    "\n",
    "                optimizer.zero_grad()\n",
    "                logits, hidden = model(data)\n",
    "                loss = loss_function(logits.reshape(-1, vocab_size), label.reshape(-1))\n",
    "                loss.backward()\n",
    "                optimizer.step()\n",
    "\n",
    "                loss = loss.cpu().item()\n",
    "\n",
    "                record_list.append({\"loss\":loss, \"step\":global_step})\n",
    "\n",
    "                if global_step % eval_step == 0:\n",
    "                    if early_stop_cb is not None:\n",
    "                        early_stop_cb(-loss)\n",
    "                        if early_stop_cb.early_stop:\n",
    "                            print(f\"Early stop in {epoch_id}, global_step {global_step}\")\n",
    "                            return record_list\n",
    "                \n",
    "                global_step += 1                \n",
    "                pbar.update(1)\n",
    "                pbar.set_postfix({\"epoch_id\":epoch_id, \"loss\":loss})\n",
    "    \n",
    "    return record_list"
   ]
  },
  {
   "cell_type": "code",
   "execution_count": 57,
   "metadata": {},
   "outputs": [
    {
     "data": {
      "application/vnd.jupyter.widget-view+json": {
       "model_id": "f90235988e0c470b809476f3de2b7d51",
       "version_major": 2,
       "version_minor": 0
      },
      "text/plain": [
       "  0%|          | 0/3460 [00:00<?, ?it/s]"
      ]
     },
     "metadata": {},
     "output_type": "display_data"
    },
    {
     "name": "stdout",
     "output_type": "stream",
     "text": [
      "Early stop in 4, global_step 692\n"
     ]
    }
   ],
   "source": [
    "epoch = 20\n",
    "model = CharRNN(vocab_size=vocab_size).to(device)\n",
    "optimizer = torch.optim.Adam(model.parameters(), lr=0.001)\n",
    "loss_function = nn.CrossEntropyLoss()\n",
    "early_stop_cb = EarlyStopCallBack()\n",
    "record_list = training(model, train_dataloader, epoch, loss_function, optimizer, early_stop_cb, len(train_dataloader))"
   ]
  },
  {
   "cell_type": "code",
   "execution_count": 61,
   "metadata": {},
   "outputs": [
    {
     "data": {
      "image/png": "[encoded data removed]",
      "text/plain": [
       "<Figure size 640x480 with 1 Axes>"
      ]
     },
     "metadata": {},
     "output_type": "display_data"
    }
   ],
   "source": [
    "plt.plot([i[\"step\"] for i in record_list], [i[\"loss\"] for i in record_list])\n",
    "plt.grid()\n",
    "plt.show()"
   ]
  },
  {
   "cell_type": "code",
   "execution_count": 122,
   "metadata": {},
   "outputs": [
    {
     "name": "stdout",
     "output_type": "stream",
     "text": [
      "Get input : \"hello\"\n",
      ">> w haver day the heaven fellow: house that hath a danchiance to sign this land of conceitied; I shall have doos to palk of sain! O magrieve you,\n",
      "The vint: she is he must repure their asking,\n",
      "Take mo never and thing?\n",
      "\n",
      "CORIOLANUS:\n",
      "Come, with look, this sasing 'gainst the queen to sprokes of soul.\n",
      "\n",
      "KING RICHARD III:\n",
      "Mark your pleasing well, bestre untriud work's high wrath.\n",
      "\n",
      "BENVOLIO:\n",
      "Bessenger:\n",
      "Richard it.\n",
      "\n",
      "GREET:\n",
      "If some hore:\n",
      "In I do lengue, Were I may come and of trem.\n",
      "\n",
      "KETRRICA:\n",
      "O have been was"
     ]
    }
   ],
   "source": [
    "def inference(model, start_text, max_len=100):\n",
    "    input = torch.Tensor([char2index[char] for char in start_text]).to(dtype=torch.int64).reshape(1, -1).to(device)\n",
    "    output = []\n",
    "    model.eval()\n",
    "    print(f\"Get input : \\\"{start_text}\\\"\")\n",
    "    print(\">>\", end=\" \")\n",
    "    hidden = None\n",
    "    with torch.no_grad():\n",
    "        for i in range(max_len):\n",
    "            logits, hidden = model(input, hidden)\n",
    "            logits = logits[0, -1, :]\n",
    "\n",
    "            probs = F.softmax(logits, dim=-1)\n",
    "            index = torch.multinomial(probs, 1).item()\n",
    "            input = torch.Tensor([index]).to(dtype=torch.int64, device=device).reshape(1, -1)\n",
    "            output.append(index)\n",
    "            \n",
    "            print(index2char[index], end=\"\", flush=True)\n",
    "\n",
    "    return \"\".join([index2char[i] for i in output])\n",
    "\n",
    "res = inference(model, start_text=\"hello\", max_len=500)"
   ]
  }
 ],
 "metadata": {
  "kernelspec": {
   "display_name": "base",
   "language": "python",
   "name": "python3"
  },
  "language_info": {
   "codemirror_mode": {
    "name": "ipython",
    "version": 3
   },
   "file_extension": ".py",
   "mimetype": "text/x-python",
   "name": "python",
   "nbconvert_exporter": "python",
   "pygments_lexer": "ipython3",
   "version": "3.11.5"
  }
 },
 "nbformat": 4,
 "nbformat_minor": 2
}
