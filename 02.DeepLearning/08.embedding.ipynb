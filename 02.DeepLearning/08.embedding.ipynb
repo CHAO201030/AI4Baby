{
 "cells": [
  {
   "cell_type": "code",
   "execution_count": 122,
   "metadata": {},
   "outputs": [
    {
     "name": "stdout",
     "output_type": "stream",
     "text": [
      "matplotlib 3.10.0\n",
      "numpy 2.0.2\n",
      "pandas 2.2.3\n",
      "sklearn 1.5.2\n",
      "torch 2.6.0+cu126\n",
      "keras._tf_keras.keras 3.8.0\n",
      "cuda:0\n"
     ]
    }
   ],
   "source": [
    "import matplotlib as mpl\n",
    "import matplotlib.pyplot as plt\n",
    "import numpy as np\n",
    "import sklearn\n",
    "import pandas as pd\n",
    "import os\n",
    "import sys\n",
    "import time\n",
    "from tqdm.auto import tqdm\n",
    "import torch\n",
    "import torch.nn as nn\n",
    "import torch.nn.functional as F\n",
    "from torch.utils.data import Dataset, DataLoader\n",
    "from tensorflow import keras\n",
    "from sklearn.metrics import accuracy_score\n",
    "\n",
    "for module in mpl, np, pd, sklearn, torch, keras:\n",
    "    print(module.__name__, module.__version__)\n",
    "\n",
    "device = torch.device(\"cuda:0\") if torch.cuda.is_available() else torch.device(\"cpu\")\n",
    "print(device)\n",
    "\n",
    "seed = 42\n"
   ]
  },
  {
   "cell_type": "code",
   "execution_count": 104,
   "metadata": {},
   "outputs": [],
   "source": [
    "imdb = keras.datasets.imdb\n",
    "vocab_size = 10000\n",
    "index_from = 3\n",
    "\n",
    "(train_data, train_labels), (valid_data, valid_labels) = imdb.load_data(\n",
    "    num_words=vocab_size, \n",
    "    index_from=index_from, \n",
    "    cache_dir=\"D:\\\\python\\\\2025\\\\04.deep_learning\\\\data\\\\imdb.npz\")"
   ]
  },
  {
   "cell_type": "code",
   "execution_count": null,
   "metadata": {},
   "outputs": [
    {
     "data": {
      "text/plain": [
       "0"
      ]
     },
     "execution_count": 5,
     "metadata": {},
     "output_type": "execute_result"
    }
   ],
   "source": [
    "word_index = imdb.get_word_index()\n",
    "\n",
    "word2index = {word : idx + 3 for word, idx in word_index.items()}\n",
    "\n",
    "word2index.update({\n",
    "    \"[PAD]\" : 0,\n",
    "    \"[BOS]\" : 1,\n",
    "    \"[UNK]\" : 2,\n",
    "    \"[EOS]\" : 3,\n",
    "})\n",
    "\n",
    "index2word = {idx : word for word, idx in word2index.items()}"
   ]
  },
  {
   "cell_type": "code",
   "execution_count": null,
   "metadata": {},
   "outputs": [
    {
     "data": {
      "image/png": "[encoded data removed]",
      "text/plain": [
       "<Figure size 640x480 with 1 Axes>"
      ]
     },
     "metadata": {},
     "output_type": "display_data"
    }
   ],
   "source": [
    "len_list = [len(txt) for txt in train_data]\n",
    "\n",
    "plt.hist(len_list, bins=50)\n",
    "plt.show()"
   ]
  },
  {
   "cell_type": "code",
   "execution_count": 44,
   "metadata": {},
   "outputs": [],
   "source": [
    "class Tokenizer:\n",
    "    def __init__(self, word2index, index2word, max_length=500, pad_idx=0, bos_idx=1, unk_idx=2, eos_idx=3):\n",
    "        self.word2index = word2index\n",
    "        self.index2word = index2word\n",
    "        self.max_length = max_length\n",
    "        self.pad_idx = pad_idx\n",
    "        self.bos_idx = bos_idx\n",
    "        self.eos_idx = eos_idx\n",
    "        self.unk_idx = unk_idx\n",
    "\n",
    "    def encode(self, text_list):\n",
    "        max_length = min(self.max_length - 2, max([len(text) for text in text_list]))\n",
    "        text_index_list = []\n",
    "        for text in text_list:\n",
    "            index_list = [self.word2index.get(word, self.unk_idx) for word in text]\n",
    "\n",
    "            if len(index_list) < max_length:\n",
    "                index_list += [self.pad_idx] * (max_length - len(index_list))\n",
    "            else:\n",
    "                index_list = index_list[:max_length]\n",
    "            \n",
    "            index_list = [self.bos_idx] + index_list + [self.eos_idx]\n",
    "            \n",
    "            text_index_list.append(index_list)\n",
    "        return torch.tensor(text_index_list)\n",
    "    \n",
    "    def decode(self, text_index_list, rm_bos=True, rm_eos=True, rm_pad=True, split=False):\n",
    "        text_list = []\n",
    "        for index_list in text_index_list:\n",
    "            text = []\n",
    "            for index in index_list:\n",
    "                word = self.index2word.get(index, \"[UNK]\")\n",
    "                if rm_bos and word == \"[BOS]\":\n",
    "                    continue\n",
    "                if rm_eos and word == \"[EOS]\":\n",
    "                    break\n",
    "                if rm_pad and word == \"[PAD]\":\n",
    "                    break\n",
    "                text.append(word)\n",
    "            \n",
    "            text_list.append(text if split else \" \".join(text))\n",
    "        \n",
    "        return text_list\n",
    "\n",
    "\n",
    "tokenizer = Tokenizer(word2index=word2index, index2word=index2word)"
   ]
  },
  {
   "cell_type": "code",
   "execution_count": 167,
   "metadata": {},
   "outputs": [
    {
     "name": "stdout",
     "output_type": "stream",
     "text": [
      "(25000,)\n",
      "\n",
      "[list([1, 14, 22, 16, 43, 530, 973, 1622, 1385, 65, 458, 4468, 66, 3941, 4, 173, 36, 256, 5, 25, 100, 43, 838, 112, 50, 670, 2, 9, 35, 480, 284, 5, 150, 4, 172, 112, 167, 2, 336, 385, 39, 4, 172, 4536, 1111, 17, 546, 38, 13, 447, 4, 192, 50, 16, 6, 147, 2025, 19, 14, 22, 4, 1920, 4613, 469, 4, 22, 71, 87, 12, 16, 43, 530, 38, 76, 15, 13, 1247, 4, 22, 17, 515, 17, 12, 16, 626, 18, 2, 5, 62, 386, 12, 8, 316, 8, 106, 5, 4, 2223, 5244, 16, 480, 66, 3785, 33, 4, 130, 12, 16, 38, 619, 5, 25, 124, 51, 36, 135, 48, 25, 1415, 33, 6, 22, 12, 215, 28, 77, 52, 5, 14, 407, 16, 82, 2, 8, 4, 107, 117, 5952, 15, 256, 4, 2, 7, 3766, 5, 723, 36, 71, 43, 530, 476, 26, 400, 317, 46, 7, 4, 2, 1029, 13, 104, 88, 4, 381, 15, 297, 98, 32, 2071, 56, 26, 141, 6, 194, 7486, 18, 4, 226, 22, 21, 134, 476, 26, 480, 5, 144, 30, 5535, 18, 51, 36, 28, 224, 92, 25, 104, 4, 226, 65, 16, 38, 1334, 88, 12, 16, 283, 5, 16, 4472, 113, 103, 32, 15, 16, 5345, 19, 178, 32])\n",
      " list([1, 194, 1153, 194, 8255, 78, 228, 5, 6, 1463, 4369, 5012, 134, 26, 4, 715, 8, 118, 1634, 14, 394, 20, 13, 119, 954, 189, 102, 5, 207, 110, 3103, 21, 14, 69, 188, 8, 30, 23, 7, 4, 249, 126, 93, 4, 114, 9, 2300, 1523, 5, 647, 4, 116, 9, 35, 8163, 4, 229, 9, 340, 1322, 4, 118, 9, 4, 130, 4901, 19, 4, 1002, 5, 89, 29, 952, 46, 37, 4, 455, 9, 45, 43, 38, 1543, 1905, 398, 4, 1649, 26, 6853, 5, 163, 11, 3215, 2, 4, 1153, 9, 194, 775, 7, 8255, 2, 349, 2637, 148, 605, 2, 8003, 15, 123, 125, 68, 2, 6853, 15, 349, 165, 4362, 98, 5, 4, 228, 9, 43, 2, 1157, 15, 299, 120, 5, 120, 174, 11, 220, 175, 136, 50, 9, 4373, 228, 8255, 5, 2, 656, 245, 2350, 5, 4, 9837, 131, 152, 491, 18, 2, 32, 7464, 1212, 14, 9, 6, 371, 78, 22, 625, 64, 1382, 9, 8, 168, 145, 23, 4, 1690, 15, 16, 4, 1355, 5, 28, 6, 52, 154, 462, 33, 89, 78, 285, 16, 145, 95])\n",
      " list([1, 14, 47, 8, 30, 31, 7, 4, 249, 108, 7, 4, 5974, 54, 61, 369, 13, 71, 149, 14, 22, 112, 4, 2401, 311, 12, 16, 3711, 33, 75, 43, 1829, 296, 4, 86, 320, 35, 534, 19, 263, 4821, 1301, 4, 1873, 33, 89, 78, 12, 66, 16, 4, 360, 7, 4, 58, 316, 334, 11, 4, 1716, 43, 645, 662, 8, 257, 85, 1200, 42, 1228, 2578, 83, 68, 3912, 15, 36, 165, 1539, 278, 36, 69, 2, 780, 8, 106, 14, 6905, 1338, 18, 6, 22, 12, 215, 28, 610, 40, 6, 87, 326, 23, 2300, 21, 23, 22, 12, 272, 40, 57, 31, 11, 4, 22, 47, 6, 2307, 51, 9, 170, 23, 595, 116, 595, 1352, 13, 191, 79, 638, 89, 2, 14, 9, 8, 106, 607, 624, 35, 534, 6, 227, 7, 129, 113])]\n",
      "\n",
      "train_data[0]_len = 218, train_data[1]_len = 189, train_data[2]_len = 141\n",
      "\n",
      "[\"this film was just brilliant casting location scenery story direction everyone's really suited the part they played and you could just imagine being there robert [UNK] is an amazing actor and now the same being director [UNK] father came from the same scottish island as myself so i loved the fact there was a real connection with this film the witty remarks throughout the film were great it was just brilliant so much that i bought the film as soon as it was released for [UNK] and would recommend it to everyone to watch and the fly fishing was amazing really cried at the end it was so sad and you know what they say if you cry at a film it must have been good and this definitely was also [UNK] to the two little boy's that played the [UNK] of norman and paul they were just brilliant children are often left out of the [UNK] list i think because the stars that play them all grown up are such a big profile for the whole film but these children are amazing and should be praised for what they have done don't you think the whole story was so lovely because it was true and was someone's life after all that was shared with us all\"]\n"
     ]
    }
   ],
   "source": [
    "print(train_data.shape)\n",
    "print()\n",
    "print(train_data[0:3])\n",
    "print()\n",
    "print(f\"train_data[0]_len = {len(train_data[0])}, train_data[1]_len = {len(train_data[1])}, train_data[2]_len = {len(train_data[2])}\")\n",
    "print()\n",
    "print(tokenizer.decode(train_data[0:1]))"
   ]
  },
  {
   "cell_type": "code",
   "execution_count": null,
   "metadata": {},
   "outputs": [],
   "source": [
    "class IMDBDataset(Dataset):\n",
    "    def __init__(self, data, labels, remain_length=True):\n",
    "        if remain_length:\n",
    "            self.data = tokenizer.decode(data, rm_bos=False, rm_eos=False, rm_pad=False)\n",
    "        else:\n",
    "            self.data = tokenizer.decode(data)\n",
    "        self.labels = labels\n",
    "\n",
    "    def __getitem__(self, index):\n",
    "        text = self.data[index]\n",
    "        label = self.labels[index]\n",
    "        return text, label\n",
    "    \n",
    "    def __len__(self):\n",
    "        return len(self.data)"
   ]
  },
  {
   "cell_type": "code",
   "execution_count": 160,
   "metadata": {},
   "outputs": [],
   "source": [
    "def collate_fn(batch):\n",
    "    text_list = [item[0].split() for item in batch]\n",
    "    label_list = [item[1] for item in batch]\n",
    "    text_list = tokenizer.encode(text_list).to(dtype=torch.int)\n",
    "    label_list = torch.tensor(label_list).reshape(-1, 1).to(dtype=torch.float)\n",
    "\n",
    "    return text_list, label_list"
   ]
  },
  {
   "cell_type": "code",
   "execution_count": 161,
   "metadata": {},
   "outputs": [],
   "source": [
    "train_dataset = IMDBDataset(train_data, train_labels)\n",
    "valid_dataset = IMDBDataset(valid_data, valid_labels)\n",
    "\n",
    "batch_size = 128\n",
    "train_dataloader = DataLoader(train_dataset, batch_size=batch_size, shuffle=True, collate_fn=collate_fn)\n",
    "valid_dataloader = DataLoader(valid_dataset, batch_size=batch_size, shuffle=False, collate_fn=collate_fn)"
   ]
  },
  {
   "cell_type": "code",
   "execution_count": null,
   "metadata": {},
   "outputs": [],
   "source": [
    "'''\n",
    "    Embedding矩阵(实际上是一个查找表) \n",
    "        行数是词表大小(词的个数)，列数是词向量维度(代表词的低维向量的维数)\n",
    "'''\n",
    "class AddingModel(nn.Module):\n",
    "    def __init__(self, embedding_dim = 16, hidden_dim = 64, vocab_size = vocab_size):\n",
    "        super().__init__()\n",
    "        self.embedding = nn.Embedding(vocab_size, embedding_dim)\n",
    "        self.pool = nn.AdaptiveAvgPool1d(1)\n",
    "        self.layer = nn.Linear(embedding_dim, hidden_dim)\n",
    "        self.fc = nn.Linear(hidden_dim, 1)\n",
    "\n",
    "    def forward(self, x):\n",
    "        x = self.embedding(x)   # [batch_size, seq_length, embedding_dim] -> [128, 500, 16]\n",
    "        x = x.permute(0, 2, 1)  # [128, 16, 500] 500个词求平均以代表文章的语义\n",
    "        x = self.pool(x)\n",
    "        x = x.squeeze(-1)\n",
    "        x = self.layer(x)\n",
    "        x = self.fc(x)\n",
    "\n",
    "        return x"
   ]
  },
  {
   "cell_type": "code",
   "execution_count": 130,
   "metadata": {},
   "outputs": [],
   "source": [
    "@torch.no_grad()\n",
    "def evaluating(model, valid_dataloader, loss_function):\n",
    "    loss_list = []\n",
    "    pred_list = []\n",
    "    label_list = []\n",
    "\n",
    "    for data, label in valid_dataloader:\n",
    "        data = data.to(device)\n",
    "        label = label.to(device)\n",
    "\n",
    "        logits = model(data)\n",
    "        loss = loss_function(logits, label)\n",
    "        loss_list.append(loss.item())\n",
    "\n",
    "        pred = logits > 0\n",
    "        pred_list.extend(pred.cpu().numpy().tolist())\n",
    "        label_list.extend(label.cpu().numpy().tolist())\n",
    "    \n",
    "    acc = accuracy_score(label_list, pred_list)\n",
    "\n",
    "    return np.mean(loss_list), acc"
   ]
  },
  {
   "cell_type": "code",
   "execution_count": 131,
   "metadata": {},
   "outputs": [],
   "source": [
    "class EarlyStopCallback:\n",
    "    def __init__(self, patience=5, min_delta=0.01):\n",
    "        self.patience = patience\n",
    "        self.min_delta = min_delta\n",
    "        self.best_metric = -1\n",
    "        self.counter = 0\n",
    "\n",
    "    def __call__(self, metric):\n",
    "        if metric >= self.best_metric + self.min_delta:\n",
    "            self.best_metric = metric\n",
    "            self.counter = 0\n",
    "        else:\n",
    "            self.counter += 1\n",
    "\n",
    "    @property\n",
    "    def early_stop(self):\n",
    "        return self.counter >= self.patience\n"
   ]
  },
  {
   "cell_type": "code",
   "execution_count": 134,
   "metadata": {},
   "outputs": [],
   "source": [
    "def training(\n",
    "        model,\n",
    "        train_dataloader,\n",
    "        valid_dataloader,\n",
    "        epoch,\n",
    "        loss_function,\n",
    "        optimizer,\n",
    "        early_stop_cb = None,\n",
    "        eval_step = 500\n",
    "):\n",
    "    record_dict = {\"train\":[], \"valid\":[]}\n",
    "    global_step = 0\n",
    "    model.train()\n",
    "\n",
    "    with tqdm(total=len(train_dataloader) * epoch) as pbar:\n",
    "        for epoch_id in range(epoch):\n",
    "            for data, label in train_dataloader:\n",
    "                data = data.to(device)\n",
    "                label = label.to(device)\n",
    "\n",
    "                optimizer.zero_grad()\n",
    "                logits = model(data)\n",
    "                loss = loss_function(logits, label)\n",
    "                loss.backward()\n",
    "                optimizer.step()\n",
    "                \n",
    "                loss = loss.cpu().item()\n",
    "                pred = logits > 0\n",
    "                acc = accuracy_score(label.cpu().numpy(), pred.cpu().numpy())\n",
    "\n",
    "                record_dict[\"train\"].append({\n",
    "                    \"loss\":loss, \"acc\":acc, \"step\":global_step\n",
    "                })\n",
    "\n",
    "                if global_step % eval_step == 0:\n",
    "                    model.eval()\n",
    "                    valid_loss, valid_acc = evaluating(model, valid_dataloader, loss_function)\n",
    "                    record_dict[\"valid\"].append({\n",
    "                        \"loss\":valid_loss, \"acc\":valid_acc, \"step\":global_step\n",
    "                    })\n",
    "                    model.train()\n",
    "\n",
    "                    if early_stop_cb is not None:\n",
    "                        early_stop_cb(valid_acc)\n",
    "                        if early_stop_cb.early_stop:\n",
    "                            print(f\"Early stop at epoch {epoch_id} / global_step {global_step}\")\n",
    "                            return record_dict\n",
    "                \n",
    "                global_step += 1\n",
    "                pbar.update(1)\n",
    "                pbar.set_postfix({\"epoch\":epoch_id})\n",
    "    \n",
    "    return record_dict"
   ]
  },
  {
   "cell_type": "code",
   "execution_count": 135,
   "metadata": {},
   "outputs": [
    {
     "data": {
      "application/vnd.jupyter.widget-view+json": {
       "model_id": "a346896e117b4b24a01642d7f452c660",
       "version_major": 2,
       "version_minor": 0
      },
      "text/plain": [
       "  0%|          | 0/41680 [00:00<?, ?it/s]"
      ]
     },
     "metadata": {},
     "output_type": "display_data"
    },
    {
     "name": "stdout",
     "output_type": "stream",
     "text": [
      "Early stop at epoch 9 / global_step 18756\n"
     ]
    }
   ],
   "source": [
    "epoch = 20\n",
    "model = AddingModel().to(device)\n",
    "loss_function = F.binary_cross_entropy_with_logits\n",
    "optimizer = torch.optim.Adam(model.parameters(), lr=0.001)\n",
    "early_stop_cb = EarlyStopCallback()\n",
    "record = training(\n",
    "    model,\n",
    "    train_dataloader,\n",
    "    valid_dataloader,\n",
    "    epoch,\n",
    "    loss_function,\n",
    "    optimizer,\n",
    "    early_stop_cb=early_stop_cb,\n",
    "    eval_step=len(train_dataloader)\n",
    ")"
   ]
  },
  {
   "cell_type": "code",
   "execution_count": 137,
   "metadata": {},
   "outputs": [],
   "source": [
    "def plot_learning_curve(record_dict, sample_step = 500):\n",
    "    train_df = pd.DataFrame(record_dict[\"train\"]).set_index(\"step\").iloc[::sample_step]\n",
    "    valid_df = pd.DataFrame(record_dict[\"valid\"]).set_index(\"step\")\n",
    "\n",
    "    fig_num = len(train_df.columns)\n",
    "    fig, axs = plt.subplots(1, fig_num, figsize=(fig_num*5, 5))\n",
    "    for idx, item in enumerate(train_df.columns):\n",
    "        axs[idx].plot(train_df.index, train_df[item], label=f\"train_{item}\")\n",
    "        axs[idx].plot(valid_df.index, valid_df[item], label=f\"valid_{item}\")\n",
    "        axs[idx].grid()\n",
    "        axs[idx].legend()\n",
    "        axs[idx].set_xlabel(\"step\")\n",
    "    \n",
    "    plt.show()"
   ]
  },
  {
   "cell_type": "code",
   "execution_count": 146,
   "metadata": {},
   "outputs": [
    {
     "data": {
      "image/png": "[encoded data removed]",
      "text/plain": [
       "<Figure size 1000x500 with 2 Axes>"
      ]
     },
     "metadata": {},
     "output_type": "display_data"
    }
   ],
   "source": [
    "plot_learning_curve(record, len(train_dataloader)//2)"
   ]
  },
  {
   "cell_type": "code",
   "execution_count": 147,
   "metadata": {},
   "outputs": [
    {
     "name": "stdout",
     "output_type": "stream",
     "text": [
      "loss: 0.3561779048128256, acc: 0.87456\n"
     ]
    }
   ],
   "source": [
    "model.eval()\n",
    "loss, acc = evaluating(model, valid_dataloader, loss_function)\n",
    "print(f\"loss: {loss}, acc: {acc}\")"
   ]
  }
 ],
 "metadata": {
  "kernelspec": {
   "display_name": "base",
   "language": "python",
   "name": "python3"
  },
  "language_info": {
   "codemirror_mode": {
    "name": "ipython",
    "version": 3
   },
   "file_extension": ".py",
   "mimetype": "text/x-python",
   "name": "python",
   "nbconvert_exporter": "python",
   "pygments_lexer": "ipython3",
   "version": "3.11.5"
  }
 },
 "nbformat": 4,
 "nbformat_minor": 2
}
