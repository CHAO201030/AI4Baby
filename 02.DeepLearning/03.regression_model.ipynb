{
 "cells": [
  {
   "cell_type": "code",
   "execution_count": 114,
   "metadata": {},
   "outputs": [],
   "source": [
    "import numpy as np\n",
    "import pandas as pd\n",
    "from tqdm.auto import tqdm\n",
    "import matplotlib.pyplot as plt\n",
    "import torch\n",
    "import torch.nn as nn\n",
    "import sklearn\n",
    "from sklearn.datasets import fetch_california_housing\n",
    "from sklearn.model_selection import train_test_split\n",
    "from sklearn.preprocessing import StandardScaler\n",
    "from torch.utils.data import DataLoader, Dataset"
   ]
  },
  {
   "cell_type": "code",
   "execution_count": 115,
   "metadata": {},
   "outputs": [
    {
     "name": "stdout",
     "output_type": "stream",
     "text": [
      "numpy 2.0.2\n",
      "pandas 2.2.3\n",
      "sklearn 1.5.2\n",
      "torch 2.6.0+cu126\n",
      "cuda:0\n"
     ]
    }
   ],
   "source": [
    "for module in np, pd, sklearn, torch:\n",
    "    print(module.__name__, module.__version__)\n",
    "\n",
    "device = torch.device(\"cuda:0\") if torch.cuda.is_available() else torch.device(\"cpu\")\n",
    "print(device)"
   ]
  },
  {
   "cell_type": "code",
   "execution_count": 116,
   "metadata": {},
   "outputs": [
    {
     "name": "stdout",
     "output_type": "stream",
     "text": [
      "(20640, 8)\n",
      "(20640,)\n",
      "<class 'numpy.ndarray'>\n",
      "x_train shape : (11610, 8)\n",
      "x_valid shape : (3870, 8)\n",
      "x_test  shape : (5160, 8)\n"
     ]
    }
   ],
   "source": [
    "housing = fetch_california_housing(data_home=\"data\")\n",
    "\n",
    "print(housing.data.shape)\n",
    "print(housing.target.shape)\n",
    "print(type(housing.data))\n",
    "\n",
    "x_train_all, x_test, y_train_all, y_test = train_test_split(housing.data, housing.target, random_state=7)\n",
    "x_train, x_valid, y_train, y_valid = train_test_split(x_train_all, y_train_all, random_state=11)\n",
    "\n",
    "print(f\"x_train shape : {x_train.shape}\")\n",
    "print(f\"x_valid shape : {x_valid.shape}\")\n",
    "print(f\"x_test  shape : {x_test.shape}\")\n",
    "\n",
    "dataset_maps = {\"train\":[x_train, y_train],\n",
    "                \"valid\":[x_valid, y_valid],\n",
    "                \"test\" :[x_test, y_test]}"
   ]
  },
  {
   "cell_type": "code",
   "execution_count": 117,
   "metadata": {},
   "outputs": [
    {
     "name": "stdout",
     "output_type": "stream",
     "text": [
      "tensor([3.2260, 1.5140, 1.5980,  ..., 1.5000, 2.6360, 1.9250])\n",
      "11610\n",
      "torch.Size([11610, 8])\n"
     ]
    }
   ],
   "source": [
    "scaler = StandardScaler()\n",
    "scaler.fit(x_train)\n",
    "print(torch.from_numpy(y_train).float())\n",
    "print(len(torch.from_numpy(y_train).float().reshape(-1,1)))\n",
    "print(torch.from_numpy(x_train).float().shape)\n"
   ]
  },
  {
   "cell_type": "code",
   "execution_count": 118,
   "metadata": {},
   "outputs": [],
   "source": [
    "class HousingDataset(Dataset):\n",
    "    def __init__(self, mode=\"train\"):\n",
    "        self.x, self.y = dataset_maps[mode]\n",
    "        self.x = torch.from_numpy(scaler.transform(self.x)).float() # float方法将64bit转为torch.float32 提高兼容性\n",
    "        self.y = torch.from_numpy(self.y).float().reshape(-1, 1)    # 转为列向量\n",
    "\n",
    "\n",
    "    def __len__(self):\n",
    "        return len(self.x)\n",
    "\n",
    "\n",
    "    def __getitem__(self, index):\n",
    "        return self.x[index], self.y[index]"
   ]
  },
  {
   "cell_type": "code",
   "execution_count": 119,
   "metadata": {},
   "outputs": [],
   "source": [
    "train_ds = HousingDataset(\"train\")\n",
    "valid_ds = HousingDataset(\"valid\")\n",
    "test_ds  = HousingDataset(\"test\")\n",
    "\n",
    "batch_size = 32\n",
    "train_dataloader = DataLoader(train_ds, batch_size=batch_size, shuffle=True)\n",
    "valid_dataloader = DataLoader(valid_ds, batch_size=batch_size, shuffle=False)\n",
    "test_dataloader  = DataLoader(test_ds,  batch_size=batch_size, shuffle=False)"
   ]
  },
  {
   "cell_type": "code",
   "execution_count": 120,
   "metadata": {},
   "outputs": [],
   "source": [
    "class NeuralNetwork(nn.Module):\n",
    "    def __init__(self, input_dim=8):\n",
    "        super().__init__()\n",
    "        self.linear_relu_stack = nn.Sequential(\n",
    "            nn.Linear(input_dim, 30),\n",
    "            nn.ReLU(),\n",
    "            nn.Linear(30, 1)\n",
    "        )\n",
    "\n",
    "    \n",
    "    def forward(self, x):\n",
    "        logits = self.linear_relu_stack(x)\n",
    "\n",
    "        return logits"
   ]
  },
  {
   "cell_type": "code",
   "execution_count": 121,
   "metadata": {},
   "outputs": [],
   "source": [
    "class EarlyStopCallback:\n",
    "    def __init__(self, patience=5, min_delta=0.01):\n",
    "        self.patience    = patience\n",
    "        self.min_delta   = min_delta\n",
    "        self.best_metric = -1\n",
    "        self.count_step  = 0\n",
    "\n",
    "    \n",
    "    def __call__(self, metric):\n",
    "        if metric >= self.best_metric + self.min_delta:\n",
    "            self.best_metric = metric\n",
    "            self.count_step = 0\n",
    "        else:\n",
    "            self.count_step += 1\n",
    "\n",
    "    \n",
    "    @property\n",
    "    def early_stop(self):\n",
    "        return self.count_step >= self.patience"
   ]
  },
  {
   "cell_type": "code",
   "execution_count": 122,
   "metadata": {},
   "outputs": [],
   "source": [
    "@torch.no_grad()\n",
    "def evaluating(model, dataloader, loss_function):\n",
    "    loss_list = []\n",
    "\n",
    "    for datas, labels in dataloader:\n",
    "        datas = datas.to(device)\n",
    "        labels = labels.to(device)\n",
    "        logits = model(datas)\n",
    "        loss = loss_function(logits, labels)\n",
    "        loss_list.append(loss.item())\n",
    "\n",
    "    return np.mean(loss_list)"
   ]
  },
  {
   "cell_type": "code",
   "execution_count": 123,
   "metadata": {},
   "outputs": [],
   "source": [
    "def training_base(model,\n",
    "                  train_dataloader,\n",
    "                  valid_dataloader,\n",
    "                  epoch,\n",
    "                  loss_function,\n",
    "                  optimizer,\n",
    "                  early_stop_cb=None,\n",
    "                  eval_step=500):\n",
    "    record_dict={\"train\":[], \"valid\":[]}\n",
    "    global_step = 0\n",
    "    model.train()\n",
    "    with tqdm(total = epoch * len(train_dataloader)) as pbar:\n",
    "        for epoch_id in range(epoch):\n",
    "            for datas, labels in train_dataloader:\n",
    "                datas = datas.to(device)\n",
    "                labels = labels.to(device)\n",
    "                optimizer.zero_grad()\n",
    "                logits = model(datas)\n",
    "                loss = loss_function(logits, labels)\n",
    "                loss.backward()\n",
    "                optimizer.step()\n",
    "                loss = loss.cpu().item()\n",
    "                record_dict[\"train\"].append({\"loss\":loss, \"step\":global_step})\n",
    "\n",
    "                if global_step % eval_step == 0:\n",
    "                    model.eval()\n",
    "                    valid_loss = evaluating(model, valid_dataloader, loss_function)\n",
    "                    record_dict[\"valid\"].append({\"loss\":valid_loss, \"step\":global_step})\n",
    "                    model.train()\n",
    "\n",
    "                    if early_stop_cb is not None:\n",
    "                        early_stop_cb(-valid_loss)  # 最小化损失loss => 最大化性能指标acc\n",
    "                        if early_stop_cb.early_stop:\n",
    "                            print(f\"Early stop at epoch : {epoch_id}, global_step : {global_step}\")\n",
    "                            return record_dict\n",
    "            \n",
    "                global_step += 1\n",
    "                pbar.update(1)\n",
    "                pbar.set_postfix({\"epoch\":epoch_id})\n",
    "    return record_dict"
   ]
  },
  {
   "cell_type": "code",
   "execution_count": 124,
   "metadata": {},
   "outputs": [
    {
     "data": {
      "application/vnd.jupyter.widget-view+json": {
       "model_id": "cfa53f74eabe4234a421a6f091aaf25f",
       "version_major": 2,
       "version_minor": 0
      },
      "text/plain": [
       "  0%|          | 0/36300 [00:00<?, ?it/s]"
      ]
     },
     "metadata": {},
     "output_type": "display_data"
    },
    {
     "name": "stdout",
     "output_type": "stream",
     "text": [
      "Early stop at epoch : 66, global_step : 23958\n"
     ]
    }
   ],
   "source": [
    "model = NeuralNetwork()\n",
    "loss_function = nn.MSELoss()\n",
    "optimizer = torch.optim.SGD(model.parameters(), lr=0.001, momentum=0.9)\n",
    "early_stop_cb = EarlyStopCallback(patience=10, min_delta=1e-3)\n",
    "model = model.to(device)\n",
    "epoch = 100\n",
    "record = training_base(model, train_dataloader, valid_dataloader, epoch, loss_function, optimizer, early_stop_cb, eval_step=len(train_dataloader))"
   ]
  },
  {
   "cell_type": "code",
   "execution_count": 125,
   "metadata": {},
   "outputs": [
    {
     "data": {
      "image/png": "[encoded data removed]",
      "text/plain": [
       "<Figure size 640x480 with 1 Axes>"
      ]
     },
     "metadata": {},
     "output_type": "display_data"
    }
   ],
   "source": [
    "def plot_learning_curves(record_dict, sample_step=500):\n",
    "    train_df = pd.DataFrame(record_dict[\"train\"]).set_index(\"step\").iloc[::sample_step]\n",
    "    val_df = pd.DataFrame(record_dict[\"valid\"]).set_index(\"step\")\n",
    "\n",
    "    for idx, item in enumerate(train_df.columns):\n",
    "        plt.plot(train_df.index, train_df[item], label=f\"train_{item}\")\n",
    "        plt.plot(val_df.index, val_df[item], label=f\"valid_{item}\")\n",
    "        plt.grid()\n",
    "        plt.legend()\n",
    "        plt.xlabel(\"step\")\n",
    "\n",
    "        plt.show()\n",
    "\n",
    "plot_learning_curves(record)"
   ]
  },
  {
   "cell_type": "code",
   "execution_count": 126,
   "metadata": {},
   "outputs": [
    {
     "name": "stdout",
     "output_type": "stream",
     "text": [
      "loss : 0.3333\n"
     ]
    }
   ],
   "source": [
    "model.eval()\n",
    "print(f\"loss : {evaluating(model, test_dataloader, loss_function):.4f}\")"
   ]
  }
 ],
 "metadata": {
  "kernelspec": {
   "display_name": "base",
   "language": "python",
   "name": "python3"
  },
  "language_info": {
   "codemirror_mode": {
    "name": "ipython",
    "version": 3
   },
   "file_extension": ".py",
   "mimetype": "text/x-python",
   "name": "python",
   "nbconvert_exporter": "python",
   "pygments_lexer": "ipython3",
   "version": "3.11.5"
  }
 },
 "nbformat": 4,
 "nbformat_minor": 2
}
